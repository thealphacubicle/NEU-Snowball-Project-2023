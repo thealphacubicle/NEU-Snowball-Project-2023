{
 "cells": [
  {
   "cell_type": "markdown",
   "metadata": {
    "cell_id": "a5aff248f4a54da4a4141feda387dd76",
    "deepnote_cell_type": "text-cell-h1",
    "formattedRanges": [],
    "is_collapsed": false,
    "tags": []
   },
   "source": [
    "# Predicting Wine From User Sentiment"
   ]
  },
  {
   "cell_type": "markdown",
   "metadata": {
    "cell_id": "3f2c3e9d-1528-4605-bbd3-173ea116ed3e",
    "deepnote_cell_type": "text-cell-p",
    "formattedRanges": [
     {
      "fromCodePoint": 0,
      "marks": {
       "bold": true
      },
      "toCodePoint": 15,
      "type": "marks"
     }
    ],
    "is_collapsed": false,
    "tags": []
   },
   "source": [
    "Project Summary\n",
    "This project aims to predict the type of wine a user would like to drink, given text describing how they feel. Using Machine Learning, we'd like to be able to classify potential types of wine. The dataset was found on Kaggle."
   ]
  },
  {
   "cell_type": "code",
   "execution_count": 1,
   "metadata": {
    "cell_id": "8db9a368c0d148ec882f00af2f9962bf",
    "deepnote_cell_type": "code",
    "deepnote_to_be_reexecuted": false,
    "execution_millis": 991,
    "execution_start": 1678388540284,
    "source_hash": "2571db0c",
    "tags": []
   },
   "outputs": [],
   "source": [
    "# Imports\n",
    "import pandas as pd\n",
    "import matplotlib.pyplot as plt\n",
    "import numpy as np\n",
    "import seaborn as sns"
   ]
  },
  {
   "cell_type": "code",
   "execution_count": 2,
   "metadata": {
    "cell_id": "c40def4fd38e4a8bb2851f0a25a711be",
    "deepnote_cell_type": "code",
    "deepnote_to_be_reexecuted": false,
    "execution_millis": 714,
    "execution_start": 1678388541280,
    "source_hash": "e760a58",
    "tags": []
   },
   "outputs": [],
   "source": [
    "raw_data = pd.read_csv('winemag-data-130k-v2.csv')"
   ]
  },
  {
   "cell_type": "markdown",
   "metadata": {
    "cell_id": "ed80e1d785c7411baec21a4c193fdfbd",
    "deepnote_cell_type": "text-cell-h2",
    "formattedRanges": [],
    "is_collapsed": false,
    "tags": []
   },
   "source": [
    "## Data Exploration"
   ]
  },
  {
   "cell_type": "code",
   "execution_count": 3,
   "metadata": {
    "cell_id": "839b33c051c94f849e17748aef41f88e",
    "deepnote_cell_type": "code",
    "deepnote_to_be_reexecuted": false,
    "execution_millis": 18,
    "execution_start": 1678388542013,
    "source_hash": "245876d0",
    "tags": []
   },
   "outputs": [],
   "source": [
    "# Use only first 5000 lines of CSV file because actual file is too large\n",
    "df = raw_data.head(5000)"
   ]
  },
  {
   "cell_type": "code",
   "execution_count": 4,
   "metadata": {
    "cell_id": "556c6afb342f4b0cb455d76130e292e2",
    "deepnote_cell_type": "code",
    "deepnote_to_be_reexecuted": false,
    "execution_millis": 4,
    "execution_start": 1678388542034,
    "source_hash": "7acce69a",
    "tags": []
   },
   "outputs": [
    {
     "data": {
      "text/plain": [
       "Index(['id', 'country', 'description', 'designation', 'points', 'price',\n",
       "       'province', 'region_1', 'region_2', 'taster_name',\n",
       "       'taster_twitter_handle', 'title', 'variety', 'winery'],\n",
       "      dtype='object')"
      ]
     },
     "execution_count": 4,
     "metadata": {},
     "output_type": "execute_result"
    }
   ],
   "source": [
    "# Get column names\n",
    "df.columns"
   ]
  },
  {
   "cell_type": "code",
   "execution_count": 5,
   "metadata": {
    "cell_id": "5851ddd00e2b470698b285f4bb83d6b7",
    "deepnote_cell_type": "code",
    "deepnote_to_be_reexecuted": false,
    "execution_millis": 47,
    "execution_start": 1678388542084,
    "source_hash": "70af7314",
    "tags": []
   },
   "outputs": [
    {
     "data": {
      "text/plain": [
       "id                          0\n",
       "country                     3\n",
       "description                 0\n",
       "designation              1477\n",
       "points                      0\n",
       "price                     343\n",
       "province                    3\n",
       "region_1                  792\n",
       "region_2                 3044\n",
       "taster_name              1031\n",
       "taster_twitter_handle    1206\n",
       "title                       0\n",
       "variety                     0\n",
       "winery                      0\n",
       "dtype: int64"
      ]
     },
     "execution_count": 5,
     "metadata": {},
     "output_type": "execute_result"
    }
   ],
   "source": [
    "# Check how many NaN values there are\n",
    "df.isna().sum()"
   ]
  },
  {
   "cell_type": "code",
   "execution_count": 6,
   "metadata": {},
   "outputs": [
    {
     "data": {
      "text/plain": [
       "id                       5000\n",
       "country                    27\n",
       "description              4985\n",
       "designation              2823\n",
       "points                     21\n",
       "price                     138\n",
       "province                  176\n",
       "region_1                  567\n",
       "region_2                   17\n",
       "taster_name                18\n",
       "taster_twitter_handle      14\n",
       "title                    4980\n",
       "variety                   272\n",
       "winery                   3411\n",
       "dtype: int64"
      ]
     },
     "execution_count": 6,
     "metadata": {},
     "output_type": "execute_result"
    }
   ],
   "source": [
    "df.nunique()"
   ]
  },
  {
   "cell_type": "markdown",
   "metadata": {
    "cell_id": "1ca97a42b96c4766bb560737ac7d355b",
    "deepnote_cell_type": "text-cell-h2",
    "formattedRanges": [],
    "is_collapsed": false,
    "tags": []
   },
   "source": [
    "## Data Cleaning + Preprocessing for Modeling"
   ]
  },
  {
   "cell_type": "code",
   "execution_count": 7,
   "metadata": {
    "cell_id": "444ecc566f7943619a2cdc3ca8faa0c8",
    "deepnote_cell_type": "code",
    "deepnote_to_be_reexecuted": false,
    "execution_millis": 99,
    "execution_start": 1678388542129,
    "source_hash": "bc8689b9",
    "tags": []
   },
   "outputs": [
    {
     "name": "stderr",
     "output_type": "stream",
     "text": [
      "/var/folders/ht/ljrb1cwj3xg1_7ttyxw6hfj40000gn/T/ipykernel_54437/1645977283.py:2: SettingWithCopyWarning: \n",
      "A value is trying to be set on a copy of a slice from a DataFrame\n",
      "\n",
      "See the caveats in the documentation: https://pandas.pydata.org/pandas-docs/stable/user_guide/indexing.html#returning-a-view-versus-a-copy\n",
      "  df.drop(columns=[\"taster_name\", \"taster_twitter_handle\"], inplace=True)\n"
     ]
    }
   ],
   "source": [
    "# Drop columns, set index, drop NaNs and duplicates\n",
    "df.drop(columns=[\"taster_name\", \"taster_twitter_handle\"], inplace=True)\n",
    "df = df.set_index('id')\n",
    "df.dropna(axis=0, inplace=True)\n",
    "df.drop_duplicates(inplace=True)\n",
    "df = df.reset_index(drop=True)"
   ]
  },
  {
   "cell_type": "code",
   "execution_count": 8,
   "metadata": {
    "cell_id": "dbda67f1e2c448a9ad403dfa1c8c1a4f",
    "deepnote_cell_type": "code",
    "deepnote_to_be_reexecuted": false,
    "execution_millis": 3,
    "execution_start": 1678388542254,
    "source_hash": "245876d0",
    "tags": []
   },
   "outputs": [
    {
     "data": {
      "text/html": [
       "<div>\n",
       "<style scoped>\n",
       "    .dataframe tbody tr th:only-of-type {\n",
       "        vertical-align: middle;\n",
       "    }\n",
       "\n",
       "    .dataframe tbody tr th {\n",
       "        vertical-align: top;\n",
       "    }\n",
       "\n",
       "    .dataframe thead th {\n",
       "        text-align: right;\n",
       "    }\n",
       "</style>\n",
       "<table border=\"1\" class=\"dataframe\">\n",
       "  <thead>\n",
       "    <tr style=\"text-align: right;\">\n",
       "      <th></th>\n",
       "      <th>country</th>\n",
       "      <th>description</th>\n",
       "      <th>designation</th>\n",
       "      <th>points</th>\n",
       "      <th>price</th>\n",
       "      <th>province</th>\n",
       "      <th>region_1</th>\n",
       "      <th>region_2</th>\n",
       "      <th>title</th>\n",
       "      <th>variety</th>\n",
       "      <th>winery</th>\n",
       "    </tr>\n",
       "  </thead>\n",
       "  <tbody>\n",
       "    <tr>\n",
       "      <th>0</th>\n",
       "      <td>US</td>\n",
       "      <td>Much like the regular bottling from 2012, this...</td>\n",
       "      <td>Vintner's Reserve Wild Child Block</td>\n",
       "      <td>87</td>\n",
       "      <td>65.0</td>\n",
       "      <td>Oregon</td>\n",
       "      <td>Willamette Valley</td>\n",
       "      <td>Willamette Valley</td>\n",
       "      <td>Sweet Cheeks 2012 Vintner's Reserve Wild Child...</td>\n",
       "      <td>Pinot Noir</td>\n",
       "      <td>Sweet Cheeks</td>\n",
       "    </tr>\n",
       "    <tr>\n",
       "      <th>1</th>\n",
       "      <td>US</td>\n",
       "      <td>Soft, supple plum envelopes an oaky structure ...</td>\n",
       "      <td>Mountain Cuvée</td>\n",
       "      <td>87</td>\n",
       "      <td>19.0</td>\n",
       "      <td>California</td>\n",
       "      <td>Napa Valley</td>\n",
       "      <td>Napa</td>\n",
       "      <td>Kirkland Signature 2011 Mountain Cuvée Caberne...</td>\n",
       "      <td>Cabernet Sauvignon</td>\n",
       "      <td>Kirkland Signature</td>\n",
       "    </tr>\n",
       "    <tr>\n",
       "      <th>2</th>\n",
       "      <td>US</td>\n",
       "      <td>This wine from the Geneseo district offers aro...</td>\n",
       "      <td>Signature Selection</td>\n",
       "      <td>87</td>\n",
       "      <td>22.0</td>\n",
       "      <td>California</td>\n",
       "      <td>Paso Robles</td>\n",
       "      <td>Central Coast</td>\n",
       "      <td>Bianchi 2011 Signature Selection Merlot (Paso ...</td>\n",
       "      <td>Merlot</td>\n",
       "      <td>Bianchi</td>\n",
       "    </tr>\n",
       "    <tr>\n",
       "      <th>3</th>\n",
       "      <td>US</td>\n",
       "      <td>Oak and earth intermingle around robust aromas...</td>\n",
       "      <td>King Ridge Vineyard</td>\n",
       "      <td>87</td>\n",
       "      <td>69.0</td>\n",
       "      <td>California</td>\n",
       "      <td>Sonoma Coast</td>\n",
       "      <td>Sonoma</td>\n",
       "      <td>Castello di Amorosa 2011 King Ridge Vineyard P...</td>\n",
       "      <td>Pinot Noir</td>\n",
       "      <td>Castello di Amorosa</td>\n",
       "    </tr>\n",
       "    <tr>\n",
       "      <th>4</th>\n",
       "      <td>US</td>\n",
       "      <td>Rustic and dry, this has flavors of berries, c...</td>\n",
       "      <td>Puma Springs Vineyard</td>\n",
       "      <td>86</td>\n",
       "      <td>50.0</td>\n",
       "      <td>California</td>\n",
       "      <td>Dry Creek Valley</td>\n",
       "      <td>Sonoma</td>\n",
       "      <td>Envolve 2010 Puma Springs Vineyard Red (Dry Cr...</td>\n",
       "      <td>Red Blend</td>\n",
       "      <td>Envolve</td>\n",
       "    </tr>\n",
       "  </tbody>\n",
       "</table>\n",
       "</div>"
      ],
      "text/plain": [
       "  country                                        description  \\\n",
       "0      US  Much like the regular bottling from 2012, this...   \n",
       "1      US  Soft, supple plum envelopes an oaky structure ...   \n",
       "2      US  This wine from the Geneseo district offers aro...   \n",
       "3      US  Oak and earth intermingle around robust aromas...   \n",
       "4      US  Rustic and dry, this has flavors of berries, c...   \n",
       "\n",
       "                          designation  points  price    province  \\\n",
       "0  Vintner's Reserve Wild Child Block      87   65.0      Oregon   \n",
       "1                      Mountain Cuvée      87   19.0  California   \n",
       "2                 Signature Selection      87   22.0  California   \n",
       "3                 King Ridge Vineyard      87   69.0  California   \n",
       "4               Puma Springs Vineyard      86   50.0  California   \n",
       "\n",
       "            region_1           region_2  \\\n",
       "0  Willamette Valley  Willamette Valley   \n",
       "1        Napa Valley               Napa   \n",
       "2        Paso Robles      Central Coast   \n",
       "3       Sonoma Coast             Sonoma   \n",
       "4   Dry Creek Valley             Sonoma   \n",
       "\n",
       "                                               title             variety  \\\n",
       "0  Sweet Cheeks 2012 Vintner's Reserve Wild Child...          Pinot Noir   \n",
       "1  Kirkland Signature 2011 Mountain Cuvée Caberne...  Cabernet Sauvignon   \n",
       "2  Bianchi 2011 Signature Selection Merlot (Paso ...              Merlot   \n",
       "3  Castello di Amorosa 2011 King Ridge Vineyard P...          Pinot Noir   \n",
       "4  Envolve 2010 Puma Springs Vineyard Red (Dry Cr...           Red Blend   \n",
       "\n",
       "                winery  \n",
       "0         Sweet Cheeks  \n",
       "1   Kirkland Signature  \n",
       "2              Bianchi  \n",
       "3  Castello di Amorosa  \n",
       "4              Envolve  "
      ]
     },
     "execution_count": 8,
     "metadata": {},
     "output_type": "execute_result"
    }
   ],
   "source": [
    "df.head(5)"
   ]
  },
  {
   "cell_type": "code",
   "execution_count": 9,
   "metadata": {},
   "outputs": [
    {
     "data": {
      "text/plain": [
       "(1303, 11)"
      ]
     },
     "execution_count": 9,
     "metadata": {},
     "output_type": "execute_result"
    }
   ],
   "source": [
    "# Check shape to check number of entries available\n",
    "df.shape"
   ]
  },
  {
   "cell_type": "code",
   "execution_count": 10,
   "metadata": {},
   "outputs": [],
   "source": [
    "# Import NLTK Corpus for NLP and RegEx library\n",
    "from nltk.corpus import stopwords\n",
    "import re\n",
    "\n",
    "# Get stop words and add any other common ones from text file into the set\n",
    "stopWords = set(stopwords.words('english'))\n",
    "\n",
    "# Remove \\n characters\n",
    "with open('Common English Words.txt') as file:\n",
    "    cleaned_cwords = [word[:len(word)-1] for word in file.readlines()]\n",
    "\n",
    "# Add text file common words to stop words set\n",
    "for c_words in cleaned_cwords:\n",
    "    stopWords.add(c_words)\n",
    "    \n",
    "# Remove wine variety names in description list by adding variety names to stop word list\n",
    "for wine_variety in df['variety']:\n",
    "    stopWords.add(wine_variety)"
   ]
  },
  {
   "cell_type": "code",
   "execution_count": 11,
   "metadata": {},
   "outputs": [],
   "source": [
    "# Take the description column and take out stop words\n",
    "processed_sentences = []\n",
    "for desc in df['description']:\n",
    "    preprocessed = [word.lower().strip() for word in desc.split() if (word.lower() not in stopWords)]\n",
    "    \n",
    "    # Perform regex to remove digits and % signs from list\n",
    "    for index, word in enumerate(preprocessed):\n",
    "        match = re.search(\"[\\d%,.]\",word)\n",
    "        \n",
    "        # Check if there is a Match object and remove that item from list\n",
    "        if match is not None:\n",
    "            preprocessed.pop(index)\n",
    "        \n",
    "    # Combine all cleaned words into string for storage\n",
    "    processed_sentences.append(\" \".join(preprocessed))"
   ]
  },
  {
   "cell_type": "code",
   "execution_count": 12,
   "metadata": {},
   "outputs": [],
   "source": [
    "# Store as new column in dataframe\n",
    "for i in range(df.shape[0]):\n",
    "    df.loc[i,\"processed_description\"] = processed_sentences[i]"
   ]
  },
  {
   "cell_type": "code",
   "execution_count": 13,
   "metadata": {},
   "outputs": [],
   "source": [
    "# Drop original description column\n",
    "df = df.drop(['description'],axis=1)"
   ]
  },
  {
   "cell_type": "code",
   "execution_count": 14,
   "metadata": {},
   "outputs": [
    {
     "data": {
      "text/html": [
       "<div>\n",
       "<style scoped>\n",
       "    .dataframe tbody tr th:only-of-type {\n",
       "        vertical-align: middle;\n",
       "    }\n",
       "\n",
       "    .dataframe tbody tr th {\n",
       "        vertical-align: top;\n",
       "    }\n",
       "\n",
       "    .dataframe thead th {\n",
       "        text-align: right;\n",
       "    }\n",
       "</style>\n",
       "<table border=\"1\" class=\"dataframe\">\n",
       "  <thead>\n",
       "    <tr style=\"text-align: right;\">\n",
       "      <th></th>\n",
       "      <th>country</th>\n",
       "      <th>designation</th>\n",
       "      <th>points</th>\n",
       "      <th>price</th>\n",
       "      <th>province</th>\n",
       "      <th>region_1</th>\n",
       "      <th>region_2</th>\n",
       "      <th>title</th>\n",
       "      <th>variety</th>\n",
       "      <th>winery</th>\n",
       "      <th>processed_description</th>\n",
       "    </tr>\n",
       "  </thead>\n",
       "  <tbody>\n",
       "    <tr>\n",
       "      <th>0</th>\n",
       "      <td>US</td>\n",
       "      <td>Vintner's Reserve Wild Child Block</td>\n",
       "      <td>87</td>\n",
       "      <td>65.0</td>\n",
       "      <td>Oregon</td>\n",
       "      <td>Willamette Valley</td>\n",
       "      <td>Willamette Valley</td>\n",
       "      <td>Sweet Cheeks 2012 Vintner's Reserve Wild Child...</td>\n",
       "      <td>Pinot Noir</td>\n",
       "      <td>Sweet Cheeks</td>\n",
       "      <td>regular bottling comes across rough rustic, he...</td>\n",
       "    </tr>\n",
       "    <tr>\n",
       "      <th>1</th>\n",
       "      <td>US</td>\n",
       "      <td>Mountain Cuvée</td>\n",
       "      <td>87</td>\n",
       "      <td>19.0</td>\n",
       "      <td>California</td>\n",
       "      <td>Napa Valley</td>\n",
       "      <td>Napa</td>\n",
       "      <td>Kirkland Signature 2011 Mountain Cuvée Caberne...</td>\n",
       "      <td>Cabernet Sauvignon</td>\n",
       "      <td>Kirkland Signature</td>\n",
       "      <td>supple plum envelopes oaky structure supported...</td>\n",
       "    </tr>\n",
       "    <tr>\n",
       "      <th>2</th>\n",
       "      <td>US</td>\n",
       "      <td>Signature Selection</td>\n",
       "      <td>87</td>\n",
       "      <td>22.0</td>\n",
       "      <td>California</td>\n",
       "      <td>Paso Robles</td>\n",
       "      <td>Central Coast</td>\n",
       "      <td>Bianchi 2011 Signature Selection Merlot (Paso ...</td>\n",
       "      <td>Merlot</td>\n",
       "      <td>Bianchi</td>\n",
       "      <td>wine geneseo district offers aromas sour plums...</td>\n",
       "    </tr>\n",
       "    <tr>\n",
       "      <th>3</th>\n",
       "      <td>US</td>\n",
       "      <td>King Ridge Vineyard</td>\n",
       "      <td>87</td>\n",
       "      <td>69.0</td>\n",
       "      <td>California</td>\n",
       "      <td>Sonoma Coast</td>\n",
       "      <td>Sonoma</td>\n",
       "      <td>Castello di Amorosa 2011 King Ridge Vineyard P...</td>\n",
       "      <td>Pinot Noir</td>\n",
       "      <td>Castello di Amorosa</td>\n",
       "      <td>oak intermingle around robust aromas wet viney...</td>\n",
       "    </tr>\n",
       "    <tr>\n",
       "      <th>4</th>\n",
       "      <td>US</td>\n",
       "      <td>Puma Springs Vineyard</td>\n",
       "      <td>86</td>\n",
       "      <td>50.0</td>\n",
       "      <td>California</td>\n",
       "      <td>Dry Creek Valley</td>\n",
       "      <td>Sonoma</td>\n",
       "      <td>Envolve 2010 Puma Springs Vineyard Red (Dry Cr...</td>\n",
       "      <td>Red Blend</td>\n",
       "      <td>Envolve</td>\n",
       "      <td>rustic flavors currants, licorice cabernet fra...</td>\n",
       "    </tr>\n",
       "  </tbody>\n",
       "</table>\n",
       "</div>"
      ],
      "text/plain": [
       "  country                         designation  points  price    province  \\\n",
       "0      US  Vintner's Reserve Wild Child Block      87   65.0      Oregon   \n",
       "1      US                      Mountain Cuvée      87   19.0  California   \n",
       "2      US                 Signature Selection      87   22.0  California   \n",
       "3      US                 King Ridge Vineyard      87   69.0  California   \n",
       "4      US               Puma Springs Vineyard      86   50.0  California   \n",
       "\n",
       "            region_1           region_2  \\\n",
       "0  Willamette Valley  Willamette Valley   \n",
       "1        Napa Valley               Napa   \n",
       "2        Paso Robles      Central Coast   \n",
       "3       Sonoma Coast             Sonoma   \n",
       "4   Dry Creek Valley             Sonoma   \n",
       "\n",
       "                                               title             variety  \\\n",
       "0  Sweet Cheeks 2012 Vintner's Reserve Wild Child...          Pinot Noir   \n",
       "1  Kirkland Signature 2011 Mountain Cuvée Caberne...  Cabernet Sauvignon   \n",
       "2  Bianchi 2011 Signature Selection Merlot (Paso ...              Merlot   \n",
       "3  Castello di Amorosa 2011 King Ridge Vineyard P...          Pinot Noir   \n",
       "4  Envolve 2010 Puma Springs Vineyard Red (Dry Cr...           Red Blend   \n",
       "\n",
       "                winery                              processed_description  \n",
       "0         Sweet Cheeks  regular bottling comes across rough rustic, he...  \n",
       "1   Kirkland Signature  supple plum envelopes oaky structure supported...  \n",
       "2              Bianchi  wine geneseo district offers aromas sour plums...  \n",
       "3  Castello di Amorosa  oak intermingle around robust aromas wet viney...  \n",
       "4              Envolve  rustic flavors currants, licorice cabernet fra...  "
      ]
     },
     "execution_count": 14,
     "metadata": {},
     "output_type": "execute_result"
    }
   ],
   "source": [
    "# Check if added column is present in df\n",
    "df.head(5)"
   ]
  },
  {
   "cell_type": "markdown",
   "metadata": {
    "cell_id": "008cb02b2a3948f0881442aabc7944c2",
    "deepnote_cell_type": "text-cell-h2",
    "formattedRanges": [],
    "is_collapsed": false,
    "tags": []
   },
   "source": [
    "## Data Visualization"
   ]
  },
  {
   "cell_type": "code",
   "execution_count": 25,
   "metadata": {},
   "outputs": [],
   "source": [
    "import plotly.express as px\n"
   ]
  },
  {
   "cell_type": "code",
   "execution_count": 21,
   "metadata": {},
   "outputs": [
    {
     "data": {
      "text/html": [
       "<div>\n",
       "<style scoped>\n",
       "    .dataframe tbody tr th:only-of-type {\n",
       "        vertical-align: middle;\n",
       "    }\n",
       "\n",
       "    .dataframe tbody tr th {\n",
       "        vertical-align: top;\n",
       "    }\n",
       "\n",
       "    .dataframe thead tr th {\n",
       "        text-align: left;\n",
       "    }\n",
       "\n",
       "    .dataframe thead tr:last-of-type th {\n",
       "        text-align: right;\n",
       "    }\n",
       "</style>\n",
       "<table border=\"1\" class=\"dataframe\">\n",
       "  <thead>\n",
       "    <tr>\n",
       "      <th></th>\n",
       "      <th colspan=\"8\" halign=\"left\">points</th>\n",
       "      <th colspan=\"8\" halign=\"left\">price</th>\n",
       "    </tr>\n",
       "    <tr>\n",
       "      <th></th>\n",
       "      <th>count</th>\n",
       "      <th>mean</th>\n",
       "      <th>std</th>\n",
       "      <th>min</th>\n",
       "      <th>25%</th>\n",
       "      <th>50%</th>\n",
       "      <th>75%</th>\n",
       "      <th>max</th>\n",
       "      <th>count</th>\n",
       "      <th>mean</th>\n",
       "      <th>std</th>\n",
       "      <th>min</th>\n",
       "      <th>25%</th>\n",
       "      <th>50%</th>\n",
       "      <th>75%</th>\n",
       "      <th>max</th>\n",
       "    </tr>\n",
       "    <tr>\n",
       "      <th>province</th>\n",
       "      <th></th>\n",
       "      <th></th>\n",
       "      <th></th>\n",
       "      <th></th>\n",
       "      <th></th>\n",
       "      <th></th>\n",
       "      <th></th>\n",
       "      <th></th>\n",
       "      <th></th>\n",
       "      <th></th>\n",
       "      <th></th>\n",
       "      <th></th>\n",
       "      <th></th>\n",
       "      <th></th>\n",
       "      <th></th>\n",
       "      <th></th>\n",
       "    </tr>\n",
       "  </thead>\n",
       "  <tbody>\n",
       "    <tr>\n",
       "      <th>California</th>\n",
       "      <td>864.0</td>\n",
       "      <td>88.921296</td>\n",
       "      <td>3.124799</td>\n",
       "      <td>81.0</td>\n",
       "      <td>87.00</td>\n",
       "      <td>89.0</td>\n",
       "      <td>91.00</td>\n",
       "      <td>99.0</td>\n",
       "      <td>864.0</td>\n",
       "      <td>43.027778</td>\n",
       "      <td>27.532459</td>\n",
       "      <td>9.0</td>\n",
       "      <td>25.00</td>\n",
       "      <td>37.0</td>\n",
       "      <td>52.0</td>\n",
       "      <td>300.0</td>\n",
       "    </tr>\n",
       "    <tr>\n",
       "      <th>New York</th>\n",
       "      <td>70.0</td>\n",
       "      <td>87.014286</td>\n",
       "      <td>2.003568</td>\n",
       "      <td>83.0</td>\n",
       "      <td>85.25</td>\n",
       "      <td>87.0</td>\n",
       "      <td>88.75</td>\n",
       "      <td>90.0</td>\n",
       "      <td>70.0</td>\n",
       "      <td>21.485714</td>\n",
       "      <td>9.324648</td>\n",
       "      <td>13.0</td>\n",
       "      <td>16.25</td>\n",
       "      <td>18.0</td>\n",
       "      <td>22.0</td>\n",
       "      <td>75.0</td>\n",
       "    </tr>\n",
       "    <tr>\n",
       "      <th>Oregon</th>\n",
       "      <td>127.0</td>\n",
       "      <td>89.094488</td>\n",
       "      <td>3.143229</td>\n",
       "      <td>82.0</td>\n",
       "      <td>87.00</td>\n",
       "      <td>89.0</td>\n",
       "      <td>92.00</td>\n",
       "      <td>95.0</td>\n",
       "      <td>127.0</td>\n",
       "      <td>43.858268</td>\n",
       "      <td>22.163435</td>\n",
       "      <td>10.0</td>\n",
       "      <td>27.50</td>\n",
       "      <td>39.0</td>\n",
       "      <td>54.5</td>\n",
       "      <td>120.0</td>\n",
       "    </tr>\n",
       "    <tr>\n",
       "      <th>Washington</th>\n",
       "      <td>242.0</td>\n",
       "      <td>88.983471</td>\n",
       "      <td>2.340279</td>\n",
       "      <td>83.0</td>\n",
       "      <td>88.00</td>\n",
       "      <td>89.0</td>\n",
       "      <td>90.00</td>\n",
       "      <td>98.0</td>\n",
       "      <td>242.0</td>\n",
       "      <td>32.301653</td>\n",
       "      <td>14.753715</td>\n",
       "      <td>9.0</td>\n",
       "      <td>23.00</td>\n",
       "      <td>30.0</td>\n",
       "      <td>40.0</td>\n",
       "      <td>95.0</td>\n",
       "    </tr>\n",
       "  </tbody>\n",
       "</table>\n",
       "</div>"
      ],
      "text/plain": [
       "           points                                                       price  \\\n",
       "            count       mean       std   min    25%   50%    75%   max  count   \n",
       "province                                                                        \n",
       "California  864.0  88.921296  3.124799  81.0  87.00  89.0  91.00  99.0  864.0   \n",
       "New York     70.0  87.014286  2.003568  83.0  85.25  87.0  88.75  90.0   70.0   \n",
       "Oregon      127.0  89.094488  3.143229  82.0  87.00  89.0  92.00  95.0  127.0   \n",
       "Washington  242.0  88.983471  2.340279  83.0  88.00  89.0  90.00  98.0  242.0   \n",
       "\n",
       "                                                                  \n",
       "                 mean        std   min    25%   50%   75%    max  \n",
       "province                                                          \n",
       "California  43.027778  27.532459   9.0  25.00  37.0  52.0  300.0  \n",
       "New York    21.485714   9.324648  13.0  16.25  18.0  22.0   75.0  \n",
       "Oregon      43.858268  22.163435  10.0  27.50  39.0  54.5  120.0  \n",
       "Washington  32.301653  14.753715   9.0  23.00  30.0  40.0   95.0  "
      ]
     },
     "execution_count": 21,
     "metadata": {},
     "output_type": "execute_result"
    }
   ],
   "source": [
    "# Get data decription based on state that wine is sold in\n",
    "price_point_state_comp = df.groupby(['province'],axis=0).describe()\n",
    "price_point_state_comp"
   ]
  },
  {
   "cell_type": "markdown",
   "metadata": {
    "cell_id": "ef61809c402e4932bd1c57f0a38fd0b6",
    "deepnote_cell_type": "text-cell-h2",
    "formattedRanges": [],
    "is_collapsed": false,
    "tags": []
   },
   "source": [
    "## Natural Language Processing"
   ]
  },
  {
   "cell_type": "markdown",
   "metadata": {
    "cell_id": "901d602d4fe645eda35b2be3f5eb24ed",
    "deepnote_cell_type": "text-cell-p",
    "formattedRanges": [
     {
      "fromCodePoint": 133,
      "ranges": [],
      "toCodePoint": 186,
      "type": "link",
      "url": "https://rapidapi.com/twinword/api/sentiment-analysis/"
     }
    ],
    "is_collapsed": false,
    "tags": []
   },
   "source": [
    "There is this API available on RapidAPI for free that analyzes sentiment level and positivity score. The API docs can be found here: https://rapidapi.com/twinword/api/sentiment-analysis/"
   ]
  }
 ],
 "metadata": {
  "deepnote": {},
  "deepnote_execution_queue": [],
  "deepnote_notebook_id": "7fb46a6638ef4073bf8fcca5aa1922ea",
  "kernelspec": {
   "display_name": "Python 3 (ipykernel)",
   "language": "python",
   "name": "python3"
  },
  "language_info": {
   "codemirror_mode": {
    "name": "ipython",
    "version": 3
   },
   "file_extension": ".py",
   "mimetype": "text/x-python",
   "name": "python",
   "nbconvert_exporter": "python",
   "pygments_lexer": "ipython3",
   "version": "3.9.13"
  }
 },
 "nbformat": 4,
 "nbformat_minor": 1
}
